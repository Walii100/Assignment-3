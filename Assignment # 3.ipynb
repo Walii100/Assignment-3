{
 "cells": [
  {
   "cell_type": "code",
   "execution_count": 12,
   "id": "c55f7210",
   "metadata": {},
   "outputs": [
    {
     "name": "stdout",
     "output_type": "stream",
     "text": [
      "Twinkle, twinkle, little star,\n",
      "\tHow I wonder what you are!\n",
      "\t\tUp above the world so high,\n",
      "\t\tLike a diamond in the sky.\n",
      "Twinkle, twinkle, little star,\n",
      "\tHow I wonder what you are!\n"
     ]
    }
   ],
   "source": [
    "print(\"Twinkle, twinkle, little star,\");\n",
    "\n",
    "# \\t provide whitespace \n",
    "print(\"\\t\" \"How I wonder what you are!\");\n",
    "\n",
    "# We need more space, So we use two \\t\n",
    "print(\"\\t\" \"\\t\" \"Up above the world so high,\");\n",
    "print(\"\\t\" \"\\t\" \"Like a diamond in the sky.\");\n",
    "print(\"Twinkle, twinkle, little star,\");\n",
    "print(\"\\t\" \"How I wonder what you are!\");"
   ]
  },
  {
   "cell_type": "code",
   "execution_count": 13,
   "id": "5933f752",
   "metadata": {},
   "outputs": [
    {
     "name": "stdout",
     "output_type": "stream",
     "text": [
      "Python version\n",
      "3.8.8 (default, Apr 13 2021, 15:08:03) [MSC v.1916 64 bit (AMD64)]\n",
      "Version info.\n",
      "sys.version_info(major=3, minor=8, micro=8, releaselevel='final', serial=0)\n"
     ]
    }
   ],
   "source": [
    "#First we should import System-specific parameters and functions\n",
    "import sys\n",
    "print(\"Python version\")\n",
    "print (sys.version)\n",
    "print(\"Version info.\")\n",
    "print (sys.version_info)"
   ]
  },
  {
   "cell_type": "code",
   "execution_count": 25,
   "id": "6d541377",
   "metadata": {},
   "outputs": [
    {
     "name": "stdout",
     "output_type": "stream",
     "text": [
      "Current Time = 15:21:02\n",
      "Year: 2021\n",
      "Month: 10\n",
      "Day: 23\n"
     ]
    }
   ],
   "source": [
    "import datetime as dt\n",
    "\n",
    "current_date = dt.date.today()\n",
    "now = datetime.now()\n",
    "\n",
    "current_time = now.strftime(\"%H:%M:%S\")\n",
    "\n",
    "print(\"Current Time =\", current_time)\n",
    "print(\"Year:\" , current_date.year);\n",
    "print(\"Month:\" , current_date.month);\n",
    "print(\"Day:\" , current_date.day)"
   ]
  },
  {
   "cell_type": "code",
   "execution_count": 27,
   "id": "82984872",
   "metadata": {},
   "outputs": [
    {
     "name": "stdout",
     "output_type": "stream",
     "text": [
      "Enter radius of circle : 1\n",
      "Area of the circle is: 3.141592653589793\n"
     ]
    }
   ],
   "source": [
    "from math import pi\n",
    "\n",
    "r = float(input (\"Enter radius of circle : \"))\n",
    "\n",
    "print (\"Area of the circle is: \" + str(pi * r**2));"
   ]
  },
  {
   "cell_type": "code",
   "execution_count": 29,
   "id": "1d099163",
   "metadata": {},
   "outputs": [
    {
     "name": "stdout",
     "output_type": "stream",
     "text": [
      "Input your First Name : Waleed \n",
      "Input your Last Name : Abbas\n",
      "Abbas Waleed \n"
     ]
    }
   ],
   "source": [
    "first_name = input(\"Input your First Name : \");\n",
    "last_name = input(\"Input your Last Name : \");\n",
    "print (last_name + \" \" + first_name);"
   ]
  },
  {
   "cell_type": "code",
   "execution_count": 34,
   "id": "9e0562c5",
   "metadata": {},
   "outputs": [
    {
     "name": "stdout",
     "output_type": "stream",
     "text": [
      "Enter first number: 6\n",
      "Enter second number: 6\n",
      "12\n"
     ]
    }
   ],
   "source": [
    "First_number = int(input(\"Enter first number: \"));\n",
    "Second_number = int(input(\"Enter second number: \"));\n",
    "sum = First_number + Second_number;\n",
    "print(sum);"
   ]
  },
  {
   "cell_type": "code",
   "execution_count": 46,
   "id": "f212a812",
   "metadata": {},
   "outputs": [
    {
     "name": "stdout",
     "output_type": "stream",
     "text": [
      "Enter English Marks: 112\n",
      "Enter Pak Study Marks: 122\n",
      "Enter Maths Marks: 123\n",
      "Enter Islamiyat Marks: 123\n",
      "Enter Urdu Marks: 23\n",
      "100.6\n",
      "Invalid Input!\n"
     ]
    }
   ],
   "source": [
    "#First we will take marks of five different subjects\n",
    "English = int(input(\"Enter English Marks: \"));\n",
    "Pak_Study = int(input(\"Enter Pak Study Marks: \"));\n",
    "Maths = int(input(\"Enter Maths Marks: \"));\n",
    "Islamiyat = int(input(\"Enter Islamiyat Marks: \"));\n",
    "Urdu = int(input(\"Enter Urdu Marks: \"));\n",
    "\n",
    "#To get total marks we will add obtain marks.\n",
    "total = English + Pak_Study + Maths + Islamiyat + Urdu;\n",
    "avg=(English + Pak_Study + Maths + Islamiyat + Urdu)/5\n",
    "print(avg);\n",
    "\n",
    "#Now we will generate the grades according to input marks.\n",
    "if avg>=91 and avg<=100:\n",
    "    print(\"Your Grade is A1\")\n",
    "elif avg>=81 and avg<91:\n",
    "    print(\"Your Grade is A\")\n",
    "elif avg>=71 and avg<81:\n",
    "    print(\"Your Grade is B1\")\n",
    "elif avg>=61 and avg<71:\n",
    "    print(\"Your Grade is B\")\n",
    "elif avg>=51 and avg<61:\n",
    "    print(\"Your Grade is C\")\n",
    "elif avg>=41 and avg<51:\n",
    "    print(\"Your Grade is D\")\n",
    "elif avg>=33 and avg<41:\n",
    "    print(\"Your Grade is E\")\n",
    "elif avg<33 and avg>=0:\n",
    "    print(\"You are Fail!\")\n",
    "    \n",
    "else:\n",
    "    print(\"Invalid Input!\")"
   ]
  },
  {
   "cell_type": "code",
   "execution_count": 65,
   "id": "92073b6f",
   "metadata": {},
   "outputs": [
    {
     "name": "stdout",
     "output_type": "stream",
     "text": [
      "Enter a number: 55\n",
      "This is an odd number.\n"
     ]
    }
   ],
   "source": [
    "num = int(input(\"Enter a number: \"));\n",
    "\n",
    "#Even number remainder is zero \n",
    "\n",
    "get_number = num % 2\n",
    "if get_number == 0:\n",
    "    print(\"This is an even number.\");\n",
    "else:\n",
    "    print(\"This is an odd number.\");"
   ]
  },
  {
   "cell_type": "code",
   "execution_count": 75,
   "id": "089a27a2",
   "metadata": {},
   "outputs": [
    {
     "name": "stdout",
     "output_type": "stream",
     "text": [
      "The length of the list is: 7\n"
     ]
    }
   ],
   "source": [
    "list = [\"Islamabad\", \"Karachi\", \"Lahore\", \"Peshawar\", \"Quetta\", \"Kashmir\", \"Gilgit\"];\n",
    "size = len(list);\n",
    "print(\"The length of the list is: \" + str(size));"
   ]
  },
  {
   "cell_type": "code",
   "execution_count": 1,
   "id": "cbac62cd",
   "metadata": {},
   "outputs": [
    {
     "name": "stdout",
     "output_type": "stream",
     "text": [
      "25\n"
     ]
    }
   ],
   "source": [
    "numbers = [1,2,3,4,5,1,4,5] \n",
    "  \n",
    "# start parameter is not provided \n",
    "Sum = sum(numbers) \n",
    "print(Sum)"
   ]
  },
  {
   "cell_type": "code",
   "execution_count": 3,
   "id": "6b46aeca",
   "metadata": {},
   "outputs": [
    {
     "name": "stdout",
     "output_type": "stream",
     "text": [
      "Largest element is: 45\n"
     ]
    }
   ],
   "source": [
    "# list of numbers\n",
    "list1 = [10, 20, 4, 45, 12]\n",
    "  \n",
    "  \n",
    "# printing the maximum element\n",
    "print(\"Largest element is:\", max(list1))"
   ]
  },
  {
   "cell_type": "code",
   "execution_count": 4,
   "id": "10e8a70f",
   "metadata": {},
   "outputs": [
    {
     "name": "stdout",
     "output_type": "stream",
     "text": [
      "1\n",
      "1\n",
      "2\n",
      "3\n"
     ]
    }
   ],
   "source": [
    "a = [1, 1, 2, 3, 5, 8, 13, 21, 34, 55, 89]\n",
    "\n",
    "for i in a:\n",
    "\n",
    "#Now we will apply if statement\n",
    "    if i < 5:\n",
    "\n",
    "        print(i)"
   ]
  },
  {
   "cell_type": "code",
   "execution_count": null,
   "id": "45a72b48",
   "metadata": {},
   "outputs": [],
   "source": []
  }
 ],
 "metadata": {
  "kernelspec": {
   "display_name": "Python 3",
   "language": "python",
   "name": "python3"
  },
  "language_info": {
   "codemirror_mode": {
    "name": "ipython",
    "version": 3
   },
   "file_extension": ".py",
   "mimetype": "text/x-python",
   "name": "python",
   "nbconvert_exporter": "python",
   "pygments_lexer": "ipython3",
   "version": "3.8.8"
  }
 },
 "nbformat": 4,
 "nbformat_minor": 5
}
